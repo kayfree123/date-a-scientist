{
 "cells": [
  {
   "cell_type": "code",
   "execution_count": 1,
   "metadata": {},
   "outputs": [],
   "source": [
    "import pandas as pd\n",
    "import numpy as np\n",
    "from matplotlib import pyplot as plt\n",
    "from sklearn.metrics import accuracy_score, recall_score, precision_score, f1_score\n",
    "from sklearn.metrics import mean_absolute_error, mean_squared_error"
   ]
  },
  {
   "cell_type": "code",
   "execution_count": 2,
   "metadata": {},
   "outputs": [],
   "source": [
    "df = pd.read_csv('profiles.csv')"
   ]
  },
  {
   "cell_type": "code",
   "execution_count": 3,
   "metadata": {},
   "outputs": [],
   "source": [
    "from matplotlib import pyplot as plt"
   ]
  },
  {
   "cell_type": "code",
   "execution_count": 4,
   "metadata": {},
   "outputs": [
    {
     "name": "stdout",
     "output_type": "stream",
     "text": [
      "no                43896\n",
      "sometimes          3787\n",
      "when drinking      3040\n",
      "yes                2231\n",
      "trying to quit     1480\n",
      "Name: smokes, dtype: int64\n",
      "doesn&rsquo;t have kids                                7560\n",
      "doesn&rsquo;t have kids, but might want them           3875\n",
      "doesn&rsquo;t have kids, but wants them                3565\n",
      "doesn&rsquo;t want kids                                2927\n",
      "has kids                                               1883\n",
      "has a kid                                              1881\n",
      "doesn&rsquo;t have kids, and doesn&rsquo;t want any    1132\n",
      "has kids, but doesn&rsquo;t want more                   442\n",
      "has a kid, but doesn&rsquo;t want more                  275\n",
      "has a kid, and might want more                          231\n",
      "wants kids                                              225\n",
      "might want kids                                         182\n",
      "has kids, and might want more                           115\n",
      "has a kid, and wants more                                71\n",
      "has kids, and wants more                                 21\n",
      "Name: offspring, dtype: int64\n"
     ]
    }
   ],
   "source": [
    "print(df.smokes.value_counts())\n",
    "print(df.offspring.value_counts())"
   ]
  },
  {
   "cell_type": "code",
   "execution_count": 5,
   "metadata": {},
   "outputs": [],
   "source": [
    "#MLR: Can you predict offspring (y) from (smoking, drinking, and drugs)x\n",
    "drink_mapping = {\"not at all\": 0, \"rarely\": 1, \"socially\": 2, \"often\": 3, \"very often\": 4, \"desperately\": 5}\n",
    "df[\"drinks_code\"] = df.drinks.map(drink_mapping)\n",
    "\n",
    "smokes_mapping = {\"no\": 0, \"sometimes\": 1, \"when drinking\": 2, \"trying to quit\": 3, \"yes\": 4}\n",
    "df[\"smokes_code\"] = df.smokes.map(smokes_mapping)\n",
    "\n",
    "drugs_mapping = {\"never\": 0, \"sometimes\": 1, \"often\": 2}\n",
    "df['drugs_code'] = df.drugs.map(drugs_mapping)\n",
    "\n",
    "offspring_maping = {\"has kids, and wants more\": 0, \"has a kid, and wants more\": 1, \"has kids, and might want more\": 2, \"has a kid, and might want more\": 3, \n",
    "                 \"has a kid, but doesn&rsquo;t want more\": 4, \"has kids, but doesn&rsquo;t want more\": 5,  \"has a kid\": 6, \"has kids\": 7,\n",
    "                  \"might want kids\": 8, \"wants kids\": 9, \"doesn&rsquo;t have kids, and doesn&rsquo;t want any\": 10, \"doesn&rsquo;t want kids\": 11, \n",
    "                  \"doesn&rsquo;t have kids, but wants them\": 12, \"doesn&rsquo;t have kids, but might want them\": 13, \"doesn&rsquo;t have kids\": 14}\n",
    "df[\"offspring_code\"] = df.offspring.map(offspring_maping)"
   ]
  },
  {
   "cell_type": "code",
   "execution_count": 6,
   "metadata": {},
   "outputs": [],
   "source": [
    "#from sklearn.preprocessing import MinMaxScaler\n",
    "#feature_data = df[['smokes_code', 'drinks_code', 'drugs_code']]\n",
    "\n",
    "#x = feature_data.values\n",
    "#min_max_scaler = MinMaxScaler()\n",
    "#x_scaled = min_max_scaler.fit_transform(x)\n",
    "\n",
    "\n",
    "#feature_data = pd.DataFrame(x_scaled, columns=feature_data.columns)"
   ]
  },
  {
   "cell_type": "code",
   "execution_count": 7,
   "metadata": {},
   "outputs": [
    {
     "data": {
      "text/plain": [
       "age               False\n",
       "body_type          True\n",
       "diet               True\n",
       "drinks             True\n",
       "drugs              True\n",
       "education          True\n",
       "essay0             True\n",
       "essay1             True\n",
       "essay2             True\n",
       "essay3             True\n",
       "essay4             True\n",
       "essay5             True\n",
       "essay6             True\n",
       "essay7             True\n",
       "essay8             True\n",
       "essay9             True\n",
       "ethnicity          True\n",
       "height             True\n",
       "income            False\n",
       "job                True\n",
       "last_online       False\n",
       "location          False\n",
       "offspring          True\n",
       "orientation       False\n",
       "pets               True\n",
       "religion           True\n",
       "sex               False\n",
       "sign               True\n",
       "smokes             True\n",
       "speaks             True\n",
       "status            False\n",
       "drinks_code       False\n",
       "smokes_code       False\n",
       "drugs_code        False\n",
       "offspring_code    False\n",
       "dtype: bool"
      ]
     },
     "execution_count": 7,
     "metadata": {},
     "output_type": "execute_result"
    }
   ],
   "source": [
    "#fill in NaN\n",
    "df.fillna({'smokes_code':0,\n",
    "           'drinks_code':0,\n",
    "           'drugs_code':0,\n",
    "           'offspring_code':1\n",
    "           },\n",
    "          inplace=True)\n",
    "df.isna().any()"
   ]
  },
  {
   "cell_type": "code",
   "execution_count": 8,
   "metadata": {},
   "outputs": [],
   "source": [
    "from sklearn.linear_model import LinearRegression\n",
    "from sklearn.model_selection import train_test_split"
   ]
  },
  {
   "cell_type": "code",
   "execution_count": 38,
   "metadata": {},
   "outputs": [
    {
     "data": {
      "image/png": "[encoded data removed]",
      "text/plain": [
       "<Figure size 432x288 with 1 Axes>"
      ]
     },
     "metadata": {},
     "output_type": "display_data"
    }
   ],
   "source": [
    "feature_data = df[['smokes_code', 'drugs_code', 'drinks_code']]\n",
    "y = df[['offspring_code']]\n",
    "\n",
    "X_train, X_test, y_train, y_test = train_test_split(feature_data, y, train_size = 0.8, test_size = 0.2, random_state=106)\n",
    "\n",
    "model = LinearRegression()\n",
    "model.fit(X_train,y_train)\n",
    "y_predicted = model.predict(X_test)\n",
    "plt.scatter(y_test,y_predicted, alpha = 0.1)\n",
    "plt.xlabel('Actual Offsrping')\n",
    "plt.ylabel('Predicted Offspring')\n",
    "plt.show()\n"
   ]
  },
  {
   "cell_type": "code",
   "execution_count": 10,
   "metadata": {},
   "outputs": [
    {
     "name": "stdout",
     "output_type": "stream",
     "text": [
      "0.0003515942822691631\n",
      "0.001032802654101328\n",
      "[('smokes_code', array([0.02709139, 0.05706273, 0.2022135 ]))]\n"
     ]
    }
   ],
   "source": [
    "#Evaluation\n",
    "print(mlr.score(x_test,y_test))\n",
    "print(mlr.score(x_train,y_train))\n",
    "\n",
    "print(sorted(list(zip(x,mlr.coef_)),key = lambda x: abs(x[1]),reverse=True))\n"
   ]
  },
  {
   "cell_type": "code",
   "execution_count": 41,
   "metadata": {},
   "outputs": [
    {
     "data": {
      "image/png": "[encoded data removed]",
      "text/plain": [
       "<Figure size 432x288 with 1 Axes>"
      ]
     },
     "metadata": {},
     "output_type": "display_data"
    },
    {
     "data": {
      "image/png": "[encoded data removed]",
      "text/plain": [
       "<Figure size 432x288 with 1 Axes>"
      ]
     },
     "metadata": {},
     "output_type": "display_data"
    },
    {
     "data": {
      "image/png": "[encoded data removed]",
      "text/plain": [
       "<Figure size 432x288 with 1 Axes>"
      ]
     },
     "metadata": {},
     "output_type": "display_data"
    }
   ],
   "source": [
    "plt.scatter(df['drinks_code'], df['offspring_code'], alpha=0.1)\n",
    "plt.xlabel('Drinking Habits')\n",
    "plt.ylabel('Offspring')\n",
    "plt.show()\n",
    "plt.scatter(df['smokes_code'], df['offspring_code'], alpha=0.1)\n",
    "plt.xlabel('Smoking Habits')\n",
    "plt.ylabel('Offspring')\n",
    "plt.show()\n",
    "plt.scatter(df['drugs_code'], df['offspring_code'], alpha=0.1)\n",
    "plt.xlabel('Drug Use Habits')\n",
    "plt.ylabel('Offspring')\n",
    "plt.show()\n"
   ]
  },
  {
   "cell_type": "code",
   "execution_count": 12,
   "metadata": {},
   "outputs": [],
   "source": [
    "# K-Nearest Neighbor Regressor: Can you predict offspring (y) from (smoking, drinking, and drugs)x"
   ]
  },
  {
   "cell_type": "code",
   "execution_count": 13,
   "metadata": {},
   "outputs": [],
   "source": [
    "from sklearn.neighbors import KNeighborsRegressor"
   ]
  },
  {
   "cell_type": "code",
   "execution_count": 14,
   "metadata": {},
   "outputs": [],
   "source": [
    "regressor = KNeighborsRegressor(n_neighbors = 2, weights = \"distance\")\n",
    "x_train, x_test, y_train, y_test = train_test_split(x, y, train_size = 0.8, test_size = 0.2, random_state=6)"
   ]
  },
  {
   "cell_type": "code",
   "execution_count": 15,
   "metadata": {},
   "outputs": [
    {
     "name": "stdout",
     "output_type": "stream",
     "text": [
      "[[10.]\n",
      " [10.]\n",
      " [10.]\n",
      " ...\n",
      " [10.]\n",
      " [ 3.]\n",
      " [10.]]\n"
     ]
    },
    {
     "data": {
      "image/png": "[encoded data removed]",
      "text/plain": [
       "<Figure size 432x288 with 1 Axes>"
      ]
     },
     "metadata": {},
     "output_type": "display_data"
    }
   ],
   "source": [
    "regressor.fit(x_train, y_train)\n",
    "k_nearest = regressor.predict(x_test)\n",
    "print(k_nearest)\n",
    "\n"
   ]
  },
  {
   "cell_type": "code",
   "execution_count": 16,
   "metadata": {},
   "outputs": [
    {
     "name": "stdout",
     "output_type": "stream",
     "text": [
      "-0.5821071653137004\n",
      "-0.5562999586593569\n"
     ]
    }
   ],
   "source": [
    "#Evaluation\n",
    "print(regressor.score(x_test,y_test))\n",
    "print(regressor.score(x_train,y_train))\n"
   ]
  },
  {
   "cell_type": "code",
   "execution_count": 17,
   "metadata": {},
   "outputs": [
    {
     "data": {
      "image/png": "[encoded data removed]",
      "text/plain": [
       "<Figure size 432x288 with 1 Axes>"
      ]
     },
     "metadata": {},
     "output_type": "display_data"
    }
   ],
   "source": [
    "plt.scatter(y_test, k_nearest, alpha=0.4)\n",
    "plt.xlabel(\"Actual Offspring\")\n",
    "plt.ylabel(\"Regressor Predicted Offspring\")\n",
    "plt.title(\"K_Nearest: Actual vs Predicted Offspring\")\n",
    "\n",
    "plt.show()"
   ]
  },
  {
   "cell_type": "code",
   "execution_count": 18,
   "metadata": {},
   "outputs": [
    {
     "name": "stdout",
     "output_type": "stream",
     "text": [
      "0    2644\n",
      "1    1453\n",
      "2    5517\n",
      "3     477\n",
      "4     725\n",
      "Name: essay_len, dtype: int64\n"
     ]
    }
   ],
   "source": [
    "essay_cols = [\"essay0\",\"essay1\",\"essay2\",\"essay3\",\"essay4\",\"essay5\",\"essay6\",\"essay7\",\"essay8\",\"essay9\"]\n",
    "\n",
    "\n",
    "# Removing the NaNs\n",
    "all_essays = df[essay_cols].replace(np.nan, '', regex=True)\n",
    "# Combining the essays\n",
    "df['essay_combined'] = all_essays[essay_cols].apply(lambda x: ' '.join(x), axis=1)\n",
    "\n",
    "df[\"essay_len\"] = df.essay_combined.apply(lambda x: len(x))\n",
    "print(df.essay_len.head())\n",
    "\n"
   ]
  },
  {
   "cell_type": "code",
   "execution_count": 19,
   "metadata": {},
   "outputs": [],
   "source": [
    "#Can we predict sex with essay text word counts?\n"
   ]
  },
  {
   "cell_type": "code",
   "execution_count": 20,
   "metadata": {},
   "outputs": [],
   "source": [
    "#map labels onto sex column\n",
    "sex_mapping = {\"m\": 2, \"f\": 1}\n",
    "df[\"sex_code\"] = df.sex.map(sex_mapping)"
   ]
  },
  {
   "cell_type": "code",
   "execution_count": 21,
   "metadata": {},
   "outputs": [],
   "source": [
    "from sklearn.neighbors import KNeighborsClassifier\n",
    "\n",
    "Kclassifier = KNeighborsClassifier(n_neighbors = 5)\n",
    "training_data = df.essay_len\n",
    "training_labels = df.sex_code\n",
    "training_data = training_data.values.reshape(-1, 1)\n",
    "\n"
   ]
  },
  {
   "cell_type": "code",
   "execution_count": 22,
   "metadata": {},
   "outputs": [
    {
     "name": "stdout",
     "output_type": "stream",
     "text": [
      "2    40894\n",
      "1    19052\n",
      "Name: prediction1, dtype: int64\n"
     ]
    }
   ],
   "source": [
    "Kclassifier.fit(training_data, training_labels)\n",
    "#guess = Kclassifier.predict([[500]])\n",
    "#print(guess)\n",
    "df['prediction1'] = Kclassifier.predict(training_data)\n",
    "print(df.prediction1.value_counts())"
   ]
  },
  {
   "cell_type": "code",
   "execution_count": 23,
   "metadata": {},
   "outputs": [
    {
     "name": "stdout",
     "output_type": "stream",
     "text": [
      "0.6160377673239249\n",
      "0.4177965750300618\n",
      "0.5288683602771362\n",
      "0.46681646551923833\n"
     ]
    }
   ],
   "source": [
    "\n",
    "#Find the accuracy, precision, and recall of each model you used, and create graphs showing how they changed. \n",
    "#Accuracy is calculated by finding the total number of correctly classified points and dividing by the total number of points.\n",
    "#Recall measures the percentage of relevant items that your classifier found.\n",
    "#precision is the number of snow days the algorithm correctly predicted divided by the number of times it predicted there would be a snow day.\n",
    "#F1 score is the harmonic mean of precision and recall\n",
    "\n",
    "\n",
    "labels = training_labels\n",
    "guesses = Kclassifier.predict(training_data)\n",
    "\n",
    "print(accuracy_score(labels, guesses))\n",
    "print(recall_score(labels, guesses))\n",
    "print(precision_score(labels, guesses))\n",
    "print(f1_score(labels, guesses))"
   ]
  },
  {
   "cell_type": "code",
   "execution_count": 24,
   "metadata": {},
   "outputs": [],
   "source": [
    "#SVC: can we predict sex from drugs, smoking, and drinking\n",
    "feature_data = df[['smokes_code', 'drinks_code', 'drugs_code']]\n",
    "X_train, X_test, Y_train, Y_test = train_test_split(feature_data, df.sex_code, test_size=0.2,random_state=109)"
   ]
  },
  {
   "cell_type": "code",
   "execution_count": 25,
   "metadata": {},
   "outputs": [],
   "source": [
    "from sklearn import svm\n",
    "Sclassifier= svm.SVC(kernel='linear') \n",
    "\n",
    "Sclassifier.fit(X_train, Y_train)\n",
    "\n",
    "Y_pred = Sclassifier.predict(X_test)"
   ]
  },
  {
   "cell_type": "code",
   "execution_count": 26,
   "metadata": {},
   "outputs": [
    {
     "name": "stdout",
     "output_type": "stream",
     "text": [
      "0.5962468723936614\n",
      "0.5962468723936614\n",
      "0.3555103328392231\n",
      "0.4454327698147536\n"
     ]
    },
    {
     "name": "stderr",
     "output_type": "stream",
     "text": [
      "/Users/PalackyLLC/miniconda3/lib/python3.6/site-packages/sklearn/metrics/classification.py:1143: UndefinedMetricWarning: Precision is ill-defined and being set to 0.0 in labels with no predicted samples.\n",
      "  'precision', 'predicted', average, warn_for)\n",
      "/Users/PalackyLLC/miniconda3/lib/python3.6/site-packages/sklearn/metrics/classification.py:1143: UndefinedMetricWarning: F-score is ill-defined and being set to 0.0 in labels with no predicted samples.\n",
      "  'precision', 'predicted', average, warn_for)\n"
     ]
    }
   ],
   "source": [
    "\n",
    "#Find the accuracy, precision, and recall of each model you used, and create graphs showing how they changed. \n",
    "#Accuracy is calculated by finding the total number of correctly classified points and dividing by the total number of points.\n",
    "#Recall measures the percentage of relevant items that your classifier found.\n",
    "#precision is the number of snow days the algorithm correctly predicted divided by the number of times it predicted there would be a snow day.\n",
    "#F1 score is the harmonic mean of precision and recall\n",
    "\n",
    "\n",
    "answers = Y_test\n",
    "guesses = Sclassifier.predict(X_test)\n",
    "\n",
    "#metrics.f1_score(y_test, y_pred, average='weighted', labels=np.unique(y_pred))\n",
    "\n",
    "print(accuracy_score(answers, guesses))\n",
    "print(recall_score(answers, guesses, average = 'weighted'))\n",
    "print(precision_score(answers, guesses, average = 'weighted'))\n",
    "print(f1_score(answers, guesses, average = 'weighted'))\n"
   ]
  },
  {
   "cell_type": "code",
   "execution_count": 27,
   "metadata": {},
   "outputs": [],
   "source": [
    "Kclassifier = KNeighborsClassifier(n_neighbors = 5)\n",
    "feature_data = df[['smokes_code', 'drinks_code', 'drugs_code']]\n",
    "X_train, X_test, Y_train, Y_test = train_test_split(feature_data, df.sex_code, test_size=0.2,random_state=109)\n",
    "\n",
    "Kclassifier.fit(X_train, Y_train)\n",
    "Y2_pred = Kclassifier.predict(X_test)\n",
    "\n"
   ]
  },
  {
   "cell_type": "code",
   "execution_count": 28,
   "metadata": {},
   "outputs": [
    {
     "name": "stdout",
     "output_type": "stream",
     "text": [
      "0.5756463719766473\n",
      "0.5756463719766473\n",
      "0.49380054287564057\n",
      "0.47123445599445146\n"
     ]
    }
   ],
   "source": [
    "#Accuracy is calculated by finding the total number of correctly classified points and dividing by the total number of points.\n",
    "#Recall measures the percentage of relevant items that your classifier found.\n",
    "#precision is the number of snow days the algorithm correctly predicted divided by the number of times it predicted there would be a snow day.\n",
    "#F1 score is the harmonic mean of precision and recall\n",
    "\n",
    "\n",
    "answers = Y_test\n",
    "guesses = Y2_pred\n",
    "\n",
    "print(accuracy_score(answers, guesses))\n",
    "print(recall_score(answers, guesses, average = 'weighted'))\n",
    "print(precision_score(answers, guesses, average = 'weighted'))\n",
    "print(f1_score(answers, guesses, average = 'weighted'))"
   ]
  },
  {
   "cell_type": "code",
   "execution_count": null,
   "metadata": {},
   "outputs": [],
   "source": []
  }
 ],
 "metadata": {
  "kernelspec": {
   "display_name": "Python 3",
   "language": "python",
   "name": "python3"
  },
  "language_info": {
   "codemirror_mode": {
    "name": "ipython",
    "version": 3
   },
   "file_extension": ".py",
   "mimetype": "text/x-python",
   "name": "python",
   "nbconvert_exporter": "python",
   "pygments_lexer": "ipython3",
   "version": "3.6.8"
  }
 },
 "nbformat": 4,
 "nbformat_minor": 2
}
